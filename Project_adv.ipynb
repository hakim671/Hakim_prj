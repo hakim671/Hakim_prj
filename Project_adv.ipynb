{
 "cells": [
  {
   "cell_type": "code",
   "execution_count": 71,
   "id": "36631809-5f62-422e-af32-fea6e26a0c44",
   "metadata": {},
   "outputs": [],
   "source": [
    "import pandas as pd\n",
    "import numpy as np\n",
    "from statsmodels.tsa.seasonal import seasonal_decompose\n",
    "import matplotlib.pyplot as plt\n",
    "from sklearn.metrics import mean_absolute_percentage_error"
   ]
  },
  {
   "cell_type": "code",
   "execution_count": 72,
   "id": "78ba4e26-36ce-4b0d-b361-87112600c946",
   "metadata": {},
   "outputs": [],
   "source": [
    "df = pd.read_csv('USD_TJS Historical Data (1).csv')"
   ]
  },
  {
   "cell_type": "code",
   "execution_count": 73,
   "id": "b638c295-a2e6-4a44-aca9-75db488ff4f6",
   "metadata": {},
   "outputs": [
    {
     "data": {
      "text/html": [
       "<div>\n",
       "<style scoped>\n",
       "    .dataframe tbody tr th:only-of-type {\n",
       "        vertical-align: middle;\n",
       "    }\n",
       "\n",
       "    .dataframe tbody tr th {\n",
       "        vertical-align: top;\n",
       "    }\n",
       "\n",
       "    .dataframe thead th {\n",
       "        text-align: right;\n",
       "    }\n",
       "</style>\n",
       "<table border=\"1\" class=\"dataframe\">\n",
       "  <thead>\n",
       "    <tr style=\"text-align: right;\">\n",
       "      <th></th>\n",
       "      <th>Date</th>\n",
       "      <th>Price</th>\n",
       "      <th>Open</th>\n",
       "      <th>High</th>\n",
       "      <th>Low</th>\n",
       "      <th>Vol.</th>\n",
       "      <th>Change %</th>\n",
       "    </tr>\n",
       "  </thead>\n",
       "  <tbody>\n",
       "    <tr>\n",
       "      <th>0</th>\n",
       "      <td>04/16/2025</td>\n",
       "      <td>10.7977</td>\n",
       "      <td>10.7977</td>\n",
       "      <td>10.7977</td>\n",
       "      <td>10.7977</td>\n",
       "      <td>NaN</td>\n",
       "      <td>-0.02%</td>\n",
       "    </tr>\n",
       "    <tr>\n",
       "      <th>1</th>\n",
       "      <td>04/15/2025</td>\n",
       "      <td>10.8000</td>\n",
       "      <td>10.8550</td>\n",
       "      <td>10.9300</td>\n",
       "      <td>10.8200</td>\n",
       "      <td>NaN</td>\n",
       "      <td>-0.18%</td>\n",
       "    </tr>\n",
       "    <tr>\n",
       "      <th>2</th>\n",
       "      <td>04/14/2025</td>\n",
       "      <td>10.8200</td>\n",
       "      <td>10.9300</td>\n",
       "      <td>10.9300</td>\n",
       "      <td>10.8450</td>\n",
       "      <td>NaN</td>\n",
       "      <td>0.00%</td>\n",
       "    </tr>\n",
       "    <tr>\n",
       "      <th>3</th>\n",
       "      <td>04/11/2025</td>\n",
       "      <td>10.8200</td>\n",
       "      <td>10.8800</td>\n",
       "      <td>10.9300</td>\n",
       "      <td>10.8400</td>\n",
       "      <td>NaN</td>\n",
       "      <td>0.00%</td>\n",
       "    </tr>\n",
       "    <tr>\n",
       "      <th>4</th>\n",
       "      <td>04/10/2025</td>\n",
       "      <td>10.8200</td>\n",
       "      <td>10.9300</td>\n",
       "      <td>10.9300</td>\n",
       "      <td>10.8400</td>\n",
       "      <td>NaN</td>\n",
       "      <td>0.00%</td>\n",
       "    </tr>\n",
       "    <tr>\n",
       "      <th>...</th>\n",
       "      <td>...</td>\n",
       "      <td>...</td>\n",
       "      <td>...</td>\n",
       "      <td>...</td>\n",
       "      <td>...</td>\n",
       "      <td>...</td>\n",
       "      <td>...</td>\n",
       "    </tr>\n",
       "    <tr>\n",
       "      <th>1334</th>\n",
       "      <td>01/07/2020</td>\n",
       "      <td>9.6933</td>\n",
       "      <td>9.6980</td>\n",
       "      <td>9.6983</td>\n",
       "      <td>9.6900</td>\n",
       "      <td>NaN</td>\n",
       "      <td>0.00%</td>\n",
       "    </tr>\n",
       "    <tr>\n",
       "      <th>1335</th>\n",
       "      <td>01/06/2020</td>\n",
       "      <td>9.6930</td>\n",
       "      <td>9.6965</td>\n",
       "      <td>9.6980</td>\n",
       "      <td>9.6900</td>\n",
       "      <td>NaN</td>\n",
       "      <td>0.06%</td>\n",
       "    </tr>\n",
       "    <tr>\n",
       "      <th>1336</th>\n",
       "      <td>01/03/2020</td>\n",
       "      <td>9.6870</td>\n",
       "      <td>9.6913</td>\n",
       "      <td>9.6965</td>\n",
       "      <td>9.6865</td>\n",
       "      <td>NaN</td>\n",
       "      <td>0.01%</td>\n",
       "    </tr>\n",
       "    <tr>\n",
       "      <th>1337</th>\n",
       "      <td>01/02/2020</td>\n",
       "      <td>9.6863</td>\n",
       "      <td>9.6930</td>\n",
       "      <td>9.6950</td>\n",
       "      <td>9.6865</td>\n",
       "      <td>NaN</td>\n",
       "      <td>-0.02%</td>\n",
       "    </tr>\n",
       "    <tr>\n",
       "      <th>1338</th>\n",
       "      <td>01/01/2020</td>\n",
       "      <td>9.6880</td>\n",
       "      <td>9.6930</td>\n",
       "      <td>9.6930</td>\n",
       "      <td>9.6930</td>\n",
       "      <td>NaN</td>\n",
       "      <td>0.00%</td>\n",
       "    </tr>\n",
       "  </tbody>\n",
       "</table>\n",
       "<p>1339 rows × 7 columns</p>\n",
       "</div>"
      ],
      "text/plain": [
       "            Date    Price     Open     High      Low  Vol. Change %\n",
       "0     04/16/2025  10.7977  10.7977  10.7977  10.7977   NaN   -0.02%\n",
       "1     04/15/2025  10.8000  10.8550  10.9300  10.8200   NaN   -0.18%\n",
       "2     04/14/2025  10.8200  10.9300  10.9300  10.8450   NaN    0.00%\n",
       "3     04/11/2025  10.8200  10.8800  10.9300  10.8400   NaN    0.00%\n",
       "4     04/10/2025  10.8200  10.9300  10.9300  10.8400   NaN    0.00%\n",
       "...          ...      ...      ...      ...      ...   ...      ...\n",
       "1334  01/07/2020   9.6933   9.6980   9.6983   9.6900   NaN    0.00%\n",
       "1335  01/06/2020   9.6930   9.6965   9.6980   9.6900   NaN    0.06%\n",
       "1336  01/03/2020   9.6870   9.6913   9.6965   9.6865   NaN    0.01%\n",
       "1337  01/02/2020   9.6863   9.6930   9.6950   9.6865   NaN   -0.02%\n",
       "1338  01/01/2020   9.6880   9.6930   9.6930   9.6930   NaN    0.00%\n",
       "\n",
       "[1339 rows x 7 columns]"
      ]
     },
     "execution_count": 73,
     "metadata": {},
     "output_type": "execute_result"
    }
   ],
   "source": [
    "df"
   ]
  },
  {
   "cell_type": "code",
   "execution_count": 74,
   "id": "13a863c3-5516-4740-acbd-9af12615aff1",
   "metadata": {},
   "outputs": [
    {
     "name": "stdout",
     "output_type": "stream",
     "text": [
      "<class 'pandas.core.frame.DataFrame'>\n",
      "RangeIndex: 1339 entries, 0 to 1338\n",
      "Data columns (total 7 columns):\n",
      " #   Column    Non-Null Count  Dtype  \n",
      "---  ------    --------------  -----  \n",
      " 0   Date      1339 non-null   object \n",
      " 1   Price     1339 non-null   float64\n",
      " 2   Open      1339 non-null   float64\n",
      " 3   High      1339 non-null   float64\n",
      " 4   Low       1339 non-null   float64\n",
      " 5   Vol.      0 non-null      float64\n",
      " 6   Change %  1339 non-null   object \n",
      "dtypes: float64(5), object(2)\n",
      "memory usage: 73.4+ KB\n"
     ]
    }
   ],
   "source": [
    "df.info()"
   ]
  },
  {
   "cell_type": "code",
   "execution_count": 75,
   "id": "f1483fe5-cbc9-4606-b4c1-8fb4d32cc59a",
   "metadata": {},
   "outputs": [],
   "source": [
    "df = df.drop(['Vol.'], axis=1)"
   ]
  },
  {
   "cell_type": "code",
   "execution_count": 76,
   "id": "2b3ebf0a-b026-4b8f-a36e-710cdfdd6077",
   "metadata": {},
   "outputs": [],
   "source": [
    "df['Date'] = pd.to_datetime(df['Date'], format='%m/%d/%Y')"
   ]
  },
  {
   "cell_type": "code",
   "execution_count": 77,
   "id": "c1e37490-f40f-4e9a-b1e3-4b1ea94432e5",
   "metadata": {},
   "outputs": [
    {
     "data": {
      "text/html": [
       "<div>\n",
       "<style scoped>\n",
       "    .dataframe tbody tr th:only-of-type {\n",
       "        vertical-align: middle;\n",
       "    }\n",
       "\n",
       "    .dataframe tbody tr th {\n",
       "        vertical-align: top;\n",
       "    }\n",
       "\n",
       "    .dataframe thead th {\n",
       "        text-align: right;\n",
       "    }\n",
       "</style>\n",
       "<table border=\"1\" class=\"dataframe\">\n",
       "  <thead>\n",
       "    <tr style=\"text-align: right;\">\n",
       "      <th></th>\n",
       "      <th>Date</th>\n",
       "      <th>Price</th>\n",
       "      <th>Open</th>\n",
       "      <th>High</th>\n",
       "      <th>Low</th>\n",
       "      <th>Change %</th>\n",
       "    </tr>\n",
       "  </thead>\n",
       "  <tbody>\n",
       "    <tr>\n",
       "      <th>0</th>\n",
       "      <td>2025-04-16</td>\n",
       "      <td>10.7977</td>\n",
       "      <td>10.7977</td>\n",
       "      <td>10.7977</td>\n",
       "      <td>10.7977</td>\n",
       "      <td>-0.02%</td>\n",
       "    </tr>\n",
       "    <tr>\n",
       "      <th>1</th>\n",
       "      <td>2025-04-15</td>\n",
       "      <td>10.8000</td>\n",
       "      <td>10.8550</td>\n",
       "      <td>10.9300</td>\n",
       "      <td>10.8200</td>\n",
       "      <td>-0.18%</td>\n",
       "    </tr>\n",
       "    <tr>\n",
       "      <th>2</th>\n",
       "      <td>2025-04-14</td>\n",
       "      <td>10.8200</td>\n",
       "      <td>10.9300</td>\n",
       "      <td>10.9300</td>\n",
       "      <td>10.8450</td>\n",
       "      <td>0.00%</td>\n",
       "    </tr>\n",
       "    <tr>\n",
       "      <th>3</th>\n",
       "      <td>2025-04-11</td>\n",
       "      <td>10.8200</td>\n",
       "      <td>10.8800</td>\n",
       "      <td>10.9300</td>\n",
       "      <td>10.8400</td>\n",
       "      <td>0.00%</td>\n",
       "    </tr>\n",
       "    <tr>\n",
       "      <th>4</th>\n",
       "      <td>2025-04-10</td>\n",
       "      <td>10.8200</td>\n",
       "      <td>10.9300</td>\n",
       "      <td>10.9300</td>\n",
       "      <td>10.8400</td>\n",
       "      <td>0.00%</td>\n",
       "    </tr>\n",
       "    <tr>\n",
       "      <th>...</th>\n",
       "      <td>...</td>\n",
       "      <td>...</td>\n",
       "      <td>...</td>\n",
       "      <td>...</td>\n",
       "      <td>...</td>\n",
       "      <td>...</td>\n",
       "    </tr>\n",
       "    <tr>\n",
       "      <th>1334</th>\n",
       "      <td>2020-01-07</td>\n",
       "      <td>9.6933</td>\n",
       "      <td>9.6980</td>\n",
       "      <td>9.6983</td>\n",
       "      <td>9.6900</td>\n",
       "      <td>0.00%</td>\n",
       "    </tr>\n",
       "    <tr>\n",
       "      <th>1335</th>\n",
       "      <td>2020-01-06</td>\n",
       "      <td>9.6930</td>\n",
       "      <td>9.6965</td>\n",
       "      <td>9.6980</td>\n",
       "      <td>9.6900</td>\n",
       "      <td>0.06%</td>\n",
       "    </tr>\n",
       "    <tr>\n",
       "      <th>1336</th>\n",
       "      <td>2020-01-03</td>\n",
       "      <td>9.6870</td>\n",
       "      <td>9.6913</td>\n",
       "      <td>9.6965</td>\n",
       "      <td>9.6865</td>\n",
       "      <td>0.01%</td>\n",
       "    </tr>\n",
       "    <tr>\n",
       "      <th>1337</th>\n",
       "      <td>2020-01-02</td>\n",
       "      <td>9.6863</td>\n",
       "      <td>9.6930</td>\n",
       "      <td>9.6950</td>\n",
       "      <td>9.6865</td>\n",
       "      <td>-0.02%</td>\n",
       "    </tr>\n",
       "    <tr>\n",
       "      <th>1338</th>\n",
       "      <td>2020-01-01</td>\n",
       "      <td>9.6880</td>\n",
       "      <td>9.6930</td>\n",
       "      <td>9.6930</td>\n",
       "      <td>9.6930</td>\n",
       "      <td>0.00%</td>\n",
       "    </tr>\n",
       "  </tbody>\n",
       "</table>\n",
       "<p>1339 rows × 6 columns</p>\n",
       "</div>"
      ],
      "text/plain": [
       "           Date    Price     Open     High      Low Change %\n",
       "0    2025-04-16  10.7977  10.7977  10.7977  10.7977   -0.02%\n",
       "1    2025-04-15  10.8000  10.8550  10.9300  10.8200   -0.18%\n",
       "2    2025-04-14  10.8200  10.9300  10.9300  10.8450    0.00%\n",
       "3    2025-04-11  10.8200  10.8800  10.9300  10.8400    0.00%\n",
       "4    2025-04-10  10.8200  10.9300  10.9300  10.8400    0.00%\n",
       "...         ...      ...      ...      ...      ...      ...\n",
       "1334 2020-01-07   9.6933   9.6980   9.6983   9.6900    0.00%\n",
       "1335 2020-01-06   9.6930   9.6965   9.6980   9.6900    0.06%\n",
       "1336 2020-01-03   9.6870   9.6913   9.6965   9.6865    0.01%\n",
       "1337 2020-01-02   9.6863   9.6930   9.6950   9.6865   -0.02%\n",
       "1338 2020-01-01   9.6880   9.6930   9.6930   9.6930    0.00%\n",
       "\n",
       "[1339 rows x 6 columns]"
      ]
     },
     "execution_count": 77,
     "metadata": {},
     "output_type": "execute_result"
    }
   ],
   "source": [
    "df"
   ]
  },
  {
   "cell_type": "code",
   "execution_count": 78,
   "id": "7f0c5239-0659-48ad-b67c-d1f6a742ac36",
   "metadata": {},
   "outputs": [],
   "source": [
    "from statsmodels.tsa.stattools import adfuller\n",
    "\n",
    "def test_stationarity(series, alpha=0.05):\n",
    "    result = adfuller(series.dropna())\n",
    "    print(\"ADF Statistic:\", result[0])\n",
    "    print(\"p-value:\", result[1])\n",
    "    for key, value in result[4].items():\n",
    "        print(f\"Critical Value ({key}): {value}\")\n",
    "    \n",
    "    if result[1] < alpha:\n",
    "        print(\"\\n✅ Ряд стационарен (отвергаем нулевую гипотезу)\")\n",
    "    else:\n",
    "        print(\"\\n❌ Ряд нестационарен (не отвергаем нулевую гипотезу)\")"
   ]
  },
  {
   "cell_type": "code",
   "execution_count": 79,
   "id": "50eb319e-93eb-4a28-b991-a4b1d4dfd3df",
   "metadata": {},
   "outputs": [
    {
     "name": "stdout",
     "output_type": "stream",
     "text": [
      "ADF Statistic: -1.7359635998612095\n",
      "p-value: 0.41268464611313505\n",
      "Critical Value (1%): -3.435291179714802\n",
      "Critical Value (5%): -2.8637221386381198\n",
      "Critical Value (10%): -2.567931778583112\n",
      "\n",
      "❌ Ряд нестационарен (не отвергаем нулевую гипотезу)\n"
     ]
    }
   ],
   "source": [
    "test_stationarity(df['Price'])"
   ]
  },
  {
   "cell_type": "code",
   "execution_count": 80,
   "id": "3f5363f9-efdc-4e9c-be5a-8cb8e2fa869a",
   "metadata": {},
   "outputs": [
    {
     "data": {
      "image/png": "[encoded data removed]",
      "text/plain": [
       "<Figure size 640x480 with 4 Axes>"
      ]
     },
     "metadata": {},
     "output_type": "display_data"
    }
   ],
   "source": [
    "decomp_result = seasonal_decompose(df['Price'], model='multiplicative', period=12)\n",
    "\n",
    "decomp_result.plot()\n",
    "plt.suptitle('Декомпозиция временного ряда (statsmodels)', fontsize=16)\n",
    "plt.tight_layout()\n",
    "plt.show()"
   ]
  },
  {
   "cell_type": "code",
   "execution_count": 81,
   "id": "c11aa9ba-a971-4f4c-bc31-821fc430bc97",
   "metadata": {},
   "outputs": [],
   "source": [
    "from sklearn.metrics import mean_squared_error\n",
    "from math import sqrt\n",
    "\n",
    "def rmse(y_actual, y_predicted):\n",
    "    rmse = sqrt(mean_squared_error(y_actual, y_predicted))\n",
    "    return rmse"
   ]
  },
  {
   "cell_type": "code",
   "execution_count": 82,
   "id": "c2c1764a-f155-45b7-9575-166ae4caf438",
   "metadata": {},
   "outputs": [],
   "source": [
    "w_hours = 120\n",
    "train = df.iloc[w_hours:]\n",
    "val   = df.iloc[:w_hours]"
   ]
  },
  {
   "cell_type": "markdown",
   "id": "05fc0c7f-1cc2-4103-8642-9a61a0e9c3d5",
   "metadata": {},
   "source": [
    "# 1 Model"
   ]
  },
  {
   "cell_type": "code",
   "execution_count": 83,
   "id": "a6b6bf0a-a826-4425-b55e-a73b72057a2d",
   "metadata": {},
   "outputs": [],
   "source": [
    "preds = [train.Price.mean()] * w_hours"
   ]
  },
  {
   "cell_type": "code",
   "execution_count": 84,
   "id": "00b28e73-5eb3-4b6e-ad88-5e55940f5db2",
   "metadata": {},
   "outputs": [
    {
     "name": "stdout",
     "output_type": "stream",
     "text": [
      "RMSE -  0.09941561460658217\n",
      "MAPE -  0.6359023976201637\n"
     ]
    }
   ],
   "source": [
    "print('RMSE - ', rmse(val.Price, preds))\n",
    "print('MAPE - ', mean_absolute_percentage_error(val.Price, preds)*100)"
   ]
  },
  {
   "cell_type": "markdown",
   "id": "2cb2745a-e237-4b42-82d8-99f182514b12",
   "metadata": {},
   "source": [
    "# 2 Model"
   ]
  },
  {
   "cell_type": "code",
   "execution_count": 85,
   "id": "a377b22c-7529-4ef7-8e97-7bd802c49b9d",
   "metadata": {},
   "outputs": [],
   "source": [
    "preds = train.iloc[:w_hours].Price.values"
   ]
  },
  {
   "cell_type": "code",
   "execution_count": 86,
   "id": "4f304e76-2f50-4b61-a287-b009c4533d68",
   "metadata": {},
   "outputs": [
    {
     "name": "stdout",
     "output_type": "stream",
     "text": [
      "RMSE -  0.25124982885566316\n",
      "MAPE -  2.2102798073490404\n"
     ]
    }
   ],
   "source": [
    "print('RMSE - ', rmse(val.Price, preds))\n",
    "print('MAPE - ', mean_absolute_percentage_error(val.Price,  preds)*100)"
   ]
  },
  {
   "cell_type": "markdown",
   "id": "5c5791b0-3bd8-477b-8a6b-39f0113ced7b",
   "metadata": {},
   "source": [
    "# 3 Model"
   ]
  },
  {
   "cell_type": "code",
   "execution_count": 87,
   "id": "351ebcc9-cd83-4b92-a1f7-4603898b1b44",
   "metadata": {},
   "outputs": [],
   "source": [
    "n = 5\n",
    "tr_sample = train.iloc[:n*w_hours]\n",
    "preds_arr = np.array(tr_sample.Price).reshape(n,-1)\n",
    "\n",
    "preds = preds_arr.mean(axis = 0)"
   ]
  },
  {
   "cell_type": "code",
   "execution_count": 88,
   "id": "e0cb30f2-f79c-4b86-976f-e0f7840f2db6",
   "metadata": {},
   "outputs": [
    {
     "name": "stdout",
     "output_type": "stream",
     "text": [
      "RMSE -  0.1784057659849217\n",
      "MAPE -  1.481430686494835\n"
     ]
    }
   ],
   "source": [
    "print('RMSE - ', rmse(val.Price, preds))\n",
    "print('MAPE - ', mean_absolute_percentage_error(val.Price,  preds)*100)"
   ]
  },
  {
   "cell_type": "markdown",
   "id": "8151203b-44a4-4fd5-b37a-9f6d20bb2558",
   "metadata": {},
   "source": [
    "# 4 Model"
   ]
  },
  {
   "cell_type": "code",
   "execution_count": 89,
   "id": "f6d98671-fe73-4455-aa53-97f844ba6b19",
   "metadata": {},
   "outputs": [],
   "source": [
    "# учитываем уровень, тренд, и сезон\n",
    "from statsmodels.tsa.api import ExponentialSmoothing\n",
    "\n",
    "fit1 = ExponentialSmoothing(np.asarray(train.Price), trend='add', seasonal=None,).fit()\n",
    "forecast = pd.Series(fit1.forecast(len(val)))\n",
    "forecast.index = val.index"
   ]
  },
  {
   "cell_type": "code",
   "execution_count": 90,
   "id": "53dddbc1-ae12-4af6-872f-0a65cd31a0ad",
   "metadata": {},
   "outputs": [
    {
     "name": "stdout",
     "output_type": "stream",
     "text": [
      "RMSE -  1.179237366034882\n",
      "MAPE -  10.864259526788851\n"
     ]
    }
   ],
   "source": [
    "print('RMSE - ', rmse(val.Price, forecast))\n",
    "print('MAPE - ', mean_absolute_percentage_error(val.Price, forecast)*100)"
   ]
  },
  {
   "cell_type": "markdown",
   "id": "af1821de-4b41-4a27-8c44-a6adb244e1fb",
   "metadata": {},
   "source": [
    "# 5 Model"
   ]
  },
  {
   "cell_type": "code",
   "execution_count": 91,
   "id": "8f8b761f-99ab-48e7-8983-e158657b0254",
   "metadata": {},
   "outputs": [
    {
     "data": {
      "application/vnd.jupyter.widget-view+json": {
       "model_id": "2762e0785e65481fb9a5dd3af242257c",
       "version_major": 2,
       "version_minor": 0
      },
      "text/plain": [
       "  0%|          | 0/500 [00:00<?, ?it/s]"
      ]
     },
     "metadata": {},
     "output_type": "display_data"
    },
    {
     "name": "stdout",
     "output_type": "stream",
     "text": [
      "(8, 0, 9) MAPE -  0.0021647854223090625\n"
     ]
    }
   ],
   "source": [
    "import itertools\n",
    "import warnings\n",
    "import tqdm\n",
    "from tqdm.auto import tqdm\n",
    "warnings.filterwarnings(\"ignore\")\n",
    "\n",
    "p = q = range(0,10)\n",
    "d = range(0,5)\n",
    "pdq = list(itertools.product(p, d, q))\n",
    "best_params = (0,0,0)\n",
    "best_rmse = np.inf\n",
    "\n",
    "for params in tqdm(pdq):\n",
    "    model_test = sm.tsa.arima.ARIMA(val.Price, order = params)\n",
    "    result_test = model_test.fit()\n",
    "    preds = result_test.predict(dynamic=False)\n",
    "\n",
    "    rmse_ = mean_absolute_percentage_error(val.Price, preds)\n",
    "    if rmse_ < best_rmse:\n",
    "        best_params = params\n",
    "        best_rmse = rmse_\n",
    "print(best_params, 'MAPE - ', best_rmse)"
   ]
  },
  {
   "cell_type": "markdown",
   "id": "83aba55d-3f40-4bdb-8123-c9b2c6d10502",
   "metadata": {},
   "source": [
    "# 6 Model"
   ]
  },
  {
   "cell_type": "code",
   "execution_count": 92,
   "id": "fc1902a7-56af-4afb-9c6e-975bf9aa6e7d",
   "metadata": {},
   "outputs": [
    {
     "name": "stderr",
     "output_type": "stream",
     "text": [
      "19:39:33 - cmdstanpy - INFO - Chain [1] start processing\n",
      "19:39:34 - cmdstanpy - INFO - Chain [1] done processing\n"
     ]
    },
    {
     "data": {
      "text/plain": [
       "<prophet.forecaster.Prophet at 0x2c488c90860>"
      ]
     },
     "execution_count": 92,
     "metadata": {},
     "output_type": "execute_result"
    }
   ],
   "source": [
    "from prophet import Prophet\n",
    "\n",
    "df_prophet = df[['Date', 'Price']].rename(columns={'Date': 'ds', 'Price': 'y'})\n",
    "\n",
    "train_pr = df_prophet.iloc[w_hours:]\n",
    "val_pr   = df_prophet.iloc[:w_hours]\n",
    "\n",
    "model = Prophet(daily_seasonality=False, yearly_seasonality=False, changepoint_prior_scale=0.001, n_changepoints=7)\n",
    "model.fit(train_pr)"
   ]
  },
  {
   "cell_type": "code",
   "execution_count": 122,
   "id": "8aa9c1b7-ea75-4e95-a190-b208a8289eae",
   "metadata": {},
   "outputs": [],
   "source": [
    "future = model.make_future_dataframe(periods=120, freq='D', include_history=False)\n",
    "forecast = model.predict(future)"
   ]
  },
  {
   "cell_type": "code",
   "execution_count": 123,
   "id": "d5b2f61f-39eb-4618-a4bf-2a94b6b170cd",
   "metadata": {},
   "outputs": [],
   "source": [
    "a = []\n",
    "for i in range(len(forecast.values)-1, -1, -1):\n",
    "    a.append(forecast.values[i][1])"
   ]
  },
  {
   "cell_type": "code",
   "execution_count": 124,
   "id": "e5b3e566-de17-4a35-8bdb-e2bc6c9fbcce",
   "metadata": {},
   "outputs": [
    {
     "name": "stdout",
     "output_type": "stream",
     "text": [
      "RMSE -  0.1120048659457339\n",
      "MAPE -  0.9786553119412502\n"
     ]
    }
   ],
   "source": [
    "print('RMSE - ', rmse(val.Price, a))\n",
    "print('MAPE - ', mean_absolute_percentage_error(val.Price, a)*100)"
   ]
  },
  {
   "cell_type": "code",
   "execution_count": null,
   "id": "3eb0d34b-0ebd-4367-9cea-72e52142426c",
   "metadata": {},
   "outputs": [],
   "source": []
  }
 ],
 "metadata": {
  "kernelspec": {
   "display_name": "Python 3 (ipykernel)",
   "language": "python",
   "name": "python3"
  },
  "language_info": {
   "codemirror_mode": {
    "name": "ipython",
    "version": 3
   },
   "file_extension": ".py",
   "mimetype": "text/x-python",
   "name": "python",
   "nbconvert_exporter": "python",
   "pygments_lexer": "ipython3",
   "version": "3.12.7"
  }
 },
 "nbformat": 4,
 "nbformat_minor": 5
}
